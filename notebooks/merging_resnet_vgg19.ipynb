{
 "cells": [
  {
   "cell_type": "code",
   "execution_count": 1,
   "metadata": {
    "collapsed": false
   },
   "outputs": [],
   "source": [
    "import numpy as np\n",
    "import pandas as pd"
   ]
  },
  {
   "cell_type": "code",
   "execution_count": 2,
   "metadata": {
    "collapsed": false
   },
   "outputs": [],
   "source": [
    "def flattend_predictions(pred_input):\n",
    "        out_flatten = []\n",
    "        for list_elt in pred_input:\n",
    "            for elt in list_elt:\n",
    "                out_flatten.append(elt)\n",
    "        return out_flatten\n",
    "\n",
    "def map_predictions_TTA(predictions, labels_map, thresholds):\n",
    "    \"\"\"\n",
    "    Return the predictions mapped to their labels\n",
    "    :param predictions: the predictions from the predict() method\n",
    "    :param labels_map: the map\n",
    "    :param thresholds: The threshold of each class to be considered as existing or not existing\n",
    "    :return: the predictions list mapped to their labels\n",
    "    \"\"\"\n",
    "    predictions_labels = []\n",
    "    for image_pred in predictions:\n",
    "        list_labels = map_predictions(image_pred, labels_map, thresholds)\n",
    "        list_flatten = flattend_predictions(list_labels)\n",
    "        labels = []\n",
    "        for nb, label in labels_map.iteritems():\n",
    "            if list_flatten.count(label)/float(len(labels_map)) > 0.5:\n",
    "                labels.append(label)\n",
    "        predictions_labels.append(labels)    \n",
    "    return predictions_labels\n",
    "    \n",
    "def map_predictions(predictions, labels_map, thresholds):\n",
    "    \"\"\"\n",
    "    Return the predictions mapped to their labels\n",
    "    :param predictions: the predictions from the predict() method\n",
    "    :param labels_map: the map\n",
    "    :param thresholds: The threshold of each class to be considered as existing or not existing\n",
    "    :return: the predictions list mapped to their labels\n",
    "    \"\"\"\n",
    "    predictions_labels = []\n",
    "    for prediction in predictions:\n",
    "        labels = [labels_map[i] for i, value in enumerate(prediction) if value > thresholds[i]]\n",
    "        predictions_labels.append(labels)\n",
    "\n",
    "    return predictions_labels"
   ]
  },
  {
   "cell_type": "code",
   "execution_count": 14,
   "metadata": {
    "collapsed": false
   },
   "outputs": [],
   "source": [
    "threshold_0 = np.load(\"/home/jb/amazon/notebooks/threshold0.npy\")\n",
    "threshold_1 = np.load(\"/home/jb/amazon/notebooks/threshold1.npy\")\n",
    "threshold_2 = np.load(\"/home/jb/amazon/notebooks/threshold2.npy\")\n",
    "threshold_3 = np.load(\"/home/jb/amazon/notebooks/threshold1.npy\")\n",
    "#threshold_4 = np.load(\"/home/jb/amazon/notebooks/threshold2.npy\")\n",
    "thresholds = [0] * 17\n",
    "for i in range(17):\n",
    "    thresholds[i] = (threshold_0[i] + threshold_1[i] + threshold_2[i] + threshold_3[i]) / 4.0\n",
    "    #threshold[i] = (threshold_0[i] + threshold_1[i] + threshold_2[i] + threshold_3[i] + threshold_4[i]) / 5.0"
   ]
  },
  {
   "cell_type": "code",
   "execution_count": 15,
   "metadata": {
    "collapsed": false
   },
   "outputs": [
    {
     "data": {
      "text/plain": [
       "[0.072500000000000009,\n",
       " 0.0275,\n",
       " 0.6875,\n",
       " 0.12,\n",
       " 0.0625,\n",
       " 0.22249999999999998,\n",
       " 0.50250000000000006,\n",
       " 0.54499999999999993,\n",
       " 0.034999999999999996,\n",
       " 0.054999999999999993,\n",
       " 0.17999999999999999,\n",
       " 0.0625,\n",
       " 0.14999999999999999,\n",
       " 0.060000000000000005,\n",
       " 0.16750000000000001,\n",
       " 0.042500000000000003,\n",
       " 0.35749999999999998]"
      ]
     },
     "execution_count": 15,
     "metadata": {},
     "output_type": "execute_result"
    }
   ],
   "source": [
    "thresholds"
   ]
  },
  {
   "cell_type": "code",
   "execution_count": 9,
   "metadata": {
    "collapsed": true
   },
   "outputs": [],
   "source": [
    "y_map = {0: 'agriculture',\n",
    " 1: 'artisinal_mine',\n",
    " 2: 'bare_ground',\n",
    " 3: 'blooming',\n",
    " 4: 'blow_down',\n",
    " 5: 'clear',\n",
    " 6: 'cloudy',\n",
    " 7: 'conventional_mine',\n",
    " 8: 'cultivation',\n",
    " 9: 'habitation',\n",
    " 10: 'haze',\n",
    " 11: 'partly_cloudy',\n",
    " 12: 'primary',\n",
    " 13: 'road',\n",
    " 14: 'selective_logging',\n",
    " 15: 'slash_burn',\n",
    " 16: 'water'}"
   ]
  },
  {
   "cell_type": "code",
   "execution_count": 10,
   "metadata": {
    "collapsed": true
   },
   "outputs": [],
   "source": [
    "resnet_no_val = np.load(\"/home/jb/amazon/proba_file_ResNet50_no_val.npy\")\n",
    "vgg19_no_val = np.load(\"/home/jb/amazon/proba_file_VGG19_no_val.npy\")"
   ]
  },
  {
   "cell_type": "code",
   "execution_count": 11,
   "metadata": {
    "collapsed": false
   },
   "outputs": [],
   "source": [
    "resnet_vgg19 = np.concatenate((resnet_no_val, vgg19_no_val), axis=1)"
   ]
  },
  {
   "cell_type": "code",
   "execution_count": 16,
   "metadata": {
    "collapsed": false
   },
   "outputs": [],
   "source": [
    "predicted_labels = map_predictions_TTA(resnet_vgg19, y_map, thresholds)"
   ]
  },
  {
   "cell_type": "code",
   "execution_count": 12,
   "metadata": {
    "collapsed": true
   },
   "outputs": [],
   "source": [
    "x_test_filename_tot = np.load('/home/jb/amazon/x_test_filename_tot.npy')"
   ]
  },
  {
   "cell_type": "code",
   "execution_count": 17,
   "metadata": {
    "collapsed": false
   },
   "outputs": [],
   "source": [
    "tags_list = [None] * len(predicted_labels)\n",
    "for i, tags in enumerate(predicted_labels):\n",
    "    tags_list[i] = ' '.join(map(str, tags))\n",
    "\n",
    "#x_test_filename_tot = np.hstack((x_test_filename, x_test_filename_additional))\n",
    "final_data = [[filename.split(\".\")[0], tags] for filename, tags in zip(x_test_filename_tot, tags_list)]"
   ]
  },
  {
   "cell_type": "code",
   "execution_count": 18,
   "metadata": {
    "collapsed": false
   },
   "outputs": [],
   "source": [
    "final_df = pd.DataFrame(final_data, columns=['image_name', 'tags'])\n",
    "final_df.to_csv(\"/home/jb/amazon/ensemble_threshold.csv\", index=False)"
   ]
  }
 ],
 "metadata": {
  "kernelspec": {
   "display_name": "Python 2",
   "language": "python",
   "name": "python2"
  },
  "language_info": {
   "codemirror_mode": {
    "name": "ipython",
    "version": 2
   },
   "file_extension": ".py",
   "mimetype": "text/x-python",
   "name": "python",
   "nbconvert_exporter": "python",
   "pygments_lexer": "ipython2",
   "version": "2.7.13"
  }
 },
 "nbformat": 4,
 "nbformat_minor": 2
}
